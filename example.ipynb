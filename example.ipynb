{
 "cells": [
  {
   "cell_type": "markdown",
   "metadata": {},
   "source": [
    "### Linear regression example\n",
    "A linear regression example, representing a relatively minimal example for how softcvi can be used."
   ]
  },
  {
   "cell_type": "markdown",
   "metadata": {},
   "source": [
    "### Imports"
   ]
  },
  {
   "cell_type": "code",
   "execution_count": 1,
   "metadata": {},
   "outputs": [],
   "source": [
    "from functools import partial\n",
    "from typing import ClassVar\n",
    "\n",
    "import jax.numpy as jnp\n",
    "import jax.random as jr\n",
    "import matplotlib.pyplot as plt\n",
    "from flowjax.distributions import Normal\n",
    "from flowjax.experimental.numpyro import sample\n",
    "from flowjax.train import fit_to_variational_target\n",
    "from flowjax.wrappers import non_trainable\n",
    "from jaxtyping import Array, PRNGKeyArray\n",
    "\n",
    "from softcvi.losses import SoftContrastiveEstimationLoss\n",
    "from softcvi.models import AbstractGuide, AbstractModel\n"
   ]
  },
  {
   "cell_type": "markdown",
   "metadata": {},
   "source": [
    "### Define the model"
   ]
  },
  {
   "cell_type": "code",
   "execution_count": 2,
   "metadata": {},
   "outputs": [],
   "source": [
    "\n",
    "class RegressionModel(AbstractModel):\n",
    "    observed_names = {\"y\"}\n",
    "    sigma: float | int\n",
    "    n_covariates: ClassVar[int] = 50\n",
    "    n_obs: ClassVar[int] = 200\n",
    "    x: Array\n",
    "\n",
    "    def __init__(self, key: PRNGKeyArray):\n",
    "        x = jr.normal(key, (self.n_obs, self.n_covariates))  # Generate toy data\n",
    "        self.x = non_trainable(x)  # If needed mark inexact arrays as non_trainable\n",
    "        self.sigma = 1\n",
    "\n",
    "    def __call__(\n",
    "        self,\n",
    "        obs: dict[str, Array] | None = None,\n",
    "    ):\n",
    "        obs = obs[\"y\"] if obs is not None else None\n",
    "\n",
    "        beta = sample(\"beta\", Normal(jnp.zeros(self.n_covariates)))\n",
    "        bias = sample(\"bias\", Normal())\n",
    "        mu = self.x @ beta + bias\n",
    "        sample(\"y\", Normal(mu, self.sigma), obs=obs)\n",
    "\n",
    "\n",
    "class RegressionGuide(AbstractGuide):\n",
    "    beta: Normal\n",
    "    bias: Normal\n",
    "\n",
    "    def __init__(self):\n",
    "        self.beta = Normal(jnp.zeros(RegressionModel.n_covariates))\n",
    "        self.bias = Normal()\n",
    "\n",
    "    def __call__(self, obs=None):  # Allow passing obs as losses support obs in guide\n",
    "        sample(\"beta\", self.beta)\n",
    "        sample(\"bias\", self.bias)\n",
    "\n",
    "key, subkey = jr.split(jr.PRNGKey(0))\n",
    "model = RegressionModel(subkey)\n",
    "guide = RegressionGuide()"
   ]
  },
  {
   "cell_type": "markdown",
   "metadata": {},
   "source": [
    "### Generate toy data"
   ]
  },
  {
   "cell_type": "code",
   "execution_count": 3,
   "metadata": {},
   "outputs": [],
   "source": [
    "key, subkey = jr.split(key)\n",
    "latents = model.sample(subkey)\n",
    "obs = {\"y\": latents.pop(\"y\")}"
   ]
  },
  {
   "cell_type": "markdown",
   "metadata": {},
   "source": [
    "### Fit posterior"
   ]
  },
  {
   "cell_type": "code",
   "execution_count": 6,
   "metadata": {},
   "outputs": [
    {
     "name": "stderr",
     "output_type": "stream",
     "text": [
      "100%|██████████| 20000/20000 [01:37<00:00, 204.95it/s, loss=0.583] \n"
     ]
    }
   ],
   "source": [
    "loss = SoftContrastiveEstimationLoss(\n",
    "    n_particles=4,\n",
    "    alpha=0.75,\n",
    "    )\n",
    "loss = partial(loss, obs=obs)\n",
    "key, subkey=jr.split(key)\n",
    "(model, guide), losses = fit_to_variational_target(\n",
    "    key=subkey,\n",
    "    dist=(model, guide),\n",
    "    loss_fn=loss,\n",
    "    steps=20000,\n",
    "    learning_rate=1e-2,\n",
    ")"
   ]
  },
  {
   "cell_type": "code",
   "execution_count": 7,
   "metadata": {},
   "outputs": [
    {
     "data": {
      "text/plain": [
       "Text(0, 0.5, '$\\\\beta$ posterior mean')"
      ]
     },
     "execution_count": 7,
     "metadata": {},
     "output_type": "execute_result"
    },
    {
     "data": {
      "image/png": "[encoded data removed]",
      "text/plain": [
       "<Figure size 640x480 with 1 Axes>"
      ]
     },
     "metadata": {},
     "output_type": "display_data"
    }
   ],
   "source": [
    "# Plot true coefficients against posterior means\n",
    "plt.scatter(latents[\"beta\"], guide.beta.loc)\n",
    "plt.xlabel(r\"True $\\beta$\")\n",
    "plt.ylabel(r\"$\\beta$ posterior mean\")\n"
   ]
  },
  {
   "cell_type": "code",
   "execution_count": null,
   "metadata": {},
   "outputs": [],
   "source": []
  }
 ],
 "metadata": {
  "kernelspec": {
   "display_name": "softcvi_env",
   "language": "python",
   "name": "python3"
  },
  "language_info": {
   "codemirror_mode": {
    "name": "ipython",
    "version": 3
   },
   "file_extension": ".py",
   "mimetype": "text/x-python",
   "name": "python",
   "nbconvert_exporter": "python",
   "pygments_lexer": "ipython3",
   "version": "3.12.4"
  }
 },
 "nbformat": 4,
 "nbformat_minor": 2
}
